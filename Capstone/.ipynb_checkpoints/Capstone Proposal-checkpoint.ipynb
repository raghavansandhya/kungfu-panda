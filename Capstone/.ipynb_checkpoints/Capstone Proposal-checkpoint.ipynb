{
 "cells": [
  {
   "cell_type": "markdown",
   "metadata": {},
   "source": [
    "## Capstone Proposal\n",
    "Sandhya Raghavan<br>\n",
    "January 7th 2019\n",
    "\n",
    "## Proposal for Home Credit Default Risk Assessment\n",
    "\n",
    "### Domain Background\n",
    "Every bank has a several strategies to acquire customers for their different lines of business like home loans, auto loans, credit cards etc. Before providing any form of loan to the customers the financial institutions need to assess the Credit Risk.<br>\n",
    "Credit risk is the probable risk of loss resulting from a borrower's failure to repay a loan or meet contractual obligations. Traditionally, it refers to the risk that a lender may not receive the owed principal and interest, which results in an interruption of cash flows and increased costs for collection.<br>\n",
    "For the assessment of Credit Risk, the lenders calculate it based on the borrower's overall ability to repay. To assess credit risk on a consumer loan, lenders look at the five C's:  credit history, capacity to repay, capital, the loan's conditions and associated collateral. Based on the customers value for the five C's they provide a risk score for the customers and decide on whether they should provide the loan or not and if provided at what interset rate.\n",
    "\n",
    "### Problem Statement\n",
    "For the capstone project, I would like to try attempting to solve the Home Credit Default Risk Assessment problem posted as a kaggle competition. Details of the competion are available [here](https://www.kaggle.com/c/home-credit-default-risk)<br>\n",
    "Many people struggle to get loans due to insufficient or non-existent credit histories. And, unfortunately, this population is often taken advantage of by untrustworthy lenders. Home Credit strives to broaden financial inclusion for the unbanked population by providing a positive and safe borrowing experience. As explained in the domain background using the five C's and performing statistical analysis to determine credit risk scores has always been the traditional approach which financial institutions. Home credit would like to use machine learning for this task, so that we could consider as many features as possible not just the five C's to determine whether the customer is a potential credit defaulter or not.\n",
    "\n",
    "### Datasets and Inputs\n",
    "Below are the availble source files provided in the competition\n",
    "- application_{train|test}.csv : This is the main table, broken into two files for Train (with TARGET) and Test (without TARGET). One row represents one loan in the data sample. Most of the fields from this file will be used for this project.\n",
    "- bureau.csv : All client's previous credits provided by other financial institutions that were reported to Credit Bureau (for clients who have a loan in the sample).For every loan in our sample, there are as many rows as number of credits the client had in Credit Bureau before the application date. \n",
    "- bureau_balance.csv: Monthly balances of previous credits in Credit Bureau.This table has one row for each month of history of every previous credit reported to Credit Bureau – i.e the table has (#loans in sample * # of relative previous credits * # of months where we have some history observable for the previous credits) rows. \n",
    "- POS_CASH_balance.csv: Monthly balance snapshots of previous POS (point of sales) and cash loans that the applicant had with Home Credit. This table has one row for each month of history of every previous credit in Home Credit (consumer credit and cash loans) related to loans in our sample – i.e. the table has (#loans in sample * # of relative previous credits * # of months in which we have some history observable for the previous credits) rows.\n",
    "- credit_card_balance.csv:Monthly balance snapshots of previous credit cards that the applicant has with Home Credit. This table has one row for each month of history of every previous credit in Home Credit (consumer credit and cash loans) related to loans in our sample – i.e. the table has (#loans in sample * # of relative previous credit cards * # of months where we have some history observable for the previous credit card) rows.\n",
    "- previous_application.csv: All previous applications for Home Credit loans of clients who have loans in the sample.There is one row for each previous application related to loans in our data sample.\n",
    "- installments_payments.csv:Repayment history for the previously disbursed credits in Home Credit related to the loans in the sample.There is \n",
    "     1. one row for every payment that was made plus \n",
    "     2. one row each for missed payment.One row is equivalent to one payment of one installment OR one installment corresponding to one payment of one previous Home Credit credit related to loans in our sample.\n",
    "- HomeCredit_columns_description.csv This file contains descriptions for the columns in the various data files. This is just a data dictionary and we would not be using this for assessment.<BR>\n",
    "All the files above (except the data dictionary) will be used by the project as each have either information of the previous credit accounts or information of previous balances and other details that could prove useful information of the customer and customer's likeliness to pay the loan.\n",
    "\n",
    "### Solution Statement\n",
    "The default risk problem is a classification problem where we would need to classify each customer as a defaulter or not. The solution to this kind of problem is to do an exploratory analysis on the fields provided in each of the input datasets and find the important features. And then using those features we can use machine learning classification algorithms to learn from the training dataset provided. We can measure the correctness of our solution by using the right evaluation metric (which will be discussed in a later section). Based on the metric scores if there is still room for improvement we can try different algorithms for classification or we can try tuning the parameters of the existing model to attain acceptable performance.\n",
    "\n",
    "### Benchmark Model\n",
    "\n",
    "This being a classification problem we can use the Decision trees clasifier algorithm as the baseline model. Why Decision Tress Classifier?\n",
    "- They are well suited for these kind of problems\n",
    "- They can be understood, they are more of a Whitebox model. Interpretation is very much required in finacial domain.\n",
    "- They can be validated by statistical methods making them more reliable.\n",
    "Using our chosen evaluvation metric, we will be able to measure the performance of our decision tree model which will tell how well the model performs on unseen data. \n",
    "\n",
    "### Evaluation Metrics\n",
    "\n",
    "For classification model one of the most frequently used metric is 'accuracy'. But we cannot use 'accuracy' here because the distribution of the 'Target' feature(Credit defaulter or not) is highly biased. "
   ]
  },
  {
   "cell_type": "code",
   "execution_count": 10,
   "metadata": {},
   "outputs": [
    {
     "data": {
      "image/png": "[encoded data removed]",
      "text/plain": [
       "<Figure size 432x288 with 1 Axes>"
      ]
     },
     "metadata": {
      "needs_background": "light"
     },
     "output_type": "display_data"
    }
   ],
   "source": [
    "import pandas as pd\n",
    "import matplotlib.pyplot as pl\n",
    "import seaborn as sns\n",
    "app_train = pd.read_csv(\"../../../all/application_train.csv\")\n",
    "ax = sns.countplot(x='TARGET', data=app_train)"
   ]
  },
  {
   "cell_type": "markdown",
   "metadata": {},
   "source": [
    "In the 'Target' field distribution, we can see that there are about 90% of 0's and 10% 1's. If we keep accuracy as the metric, even a classifier that predicts 0's all the time will have a 90% accuracy. So we need a better metric to estimate the performance of  both the benchmark model and the solution model. The evaluation metric provided in the Kaggle competition is area under the ROC Curve (AUC-ROC). This is definetely a good evaluation metric considering the target variable bias as it takes into consideration the sensitivity and the specificity of the predictions.\n",
    "\n",
    "The Receiver Operating Characteristics curve (ROC) plots the False Positive Rate(FPR) vs True Postive Rate(TPR) with FPR on the x-axis and TPR on the y-axis. The area under this curve depicts the degree of seperablity between the two classes. So this metric measures how well the model is able to split the data into the right classes. If the AUC - ROC value is close to 1, it means the model is performing very well and if it close to 0 it means the model is performing poorly.\n",
    "\n",
    "The TPR value is the Recall or Sensitivity value which is calculated as below:\n",
    "$$TPR/Sensitivity/Recall = \\frac{TP}{(TP+FN)}$$\n",
    "\n",
    "The FPR value is complement of the specificity which is calculated as below:\n",
    "$$Specificity = \\frac{TN}{(TN+FP)}$$<br>\n",
    "$$FPR = (1 - Specificity)$$\n",
    "    $$= \\frac{FP}{(TN+FP)}$$\n",
    "\n",
    "We coud also use various other metrics as well like the F-score which tries to compare model with low precision and recall values. But I beleive based on this finance domain where mis-identifying false positives and false negatives both have impact on the companys revenue.\n",
    "\n",
    "### Project Design\n",
    "\n",
    "Below picture represents the design approach for the solving the Home Credit Default Risk Assessment Problem.<br>\n",
    "![Design Flow](Flow.png)\n",
    "\n",
    "**1. Exploratory Data Analysis**<br>\n",
    "Before using the data for building our solution it is critical that we have a complete understanding of the data we have inhand. The dictionary file provided along with the dataset would help us with understanding the fields, the content of the files and the relationship between the files. In addition we would need to understand the below:\n",
    "- Understand the dimensions of the data files and data type of the fields in each file\n",
    "- Get a sense of the missing values in the data so that we can see how to handle them later.\n",
    "- Profile the data fields to check the distrubution of the values, checking the distinct values, get the key statistics for each field\n",
    "- Check for correlation between fields as they could be either used to create a new feature or be handled correctly to not affect the models performance\n",
    "- Check for outliers and sparsity of the data as they will have significant impact on the models performance if not handled correctly.\n",
    "\n",
    "**2. Data Pre-processing**\n",
    "Based on the information we have from our EDA, we can then work on the below pre-processing steps.\n",
    "- Handling Missing Values: If there are NA's identified in the data depending on their count and on the field we can appropriately handle the same.\n",
    "- Removing non-pertinent and correlated fields: If we see there are highly correlated fields we can choose to elimate them except for one in the modelling. Also not every single field in the input files will have pertinent information. Based on our EDA, we can identify those fields and choose to eliminate them\n",
    "- Normalizing fields: Based on the distribution of the values in the field, we can see if they need to be normalised to make sure the feature are on appropriate scale for modelling\n",
    "- Transforming Fields: We may need to perform log transformations or create new features based on existing features to improve the model.\n",
    "- Perform One hot encoding of features - For the categorical features with multiple classes, one hot encoding will help the model errors assuming relationship between classes\n",
    "- Merging the data files: We need to merge the information in the different data files to feed it to the model.\n",
    "\n",
    "**3. Feature Importance and Selection**\n",
    "Once we have the data pre-processed, we can use the same to check which features are important so that they alone can be used for the modelling. This would make sure we dont have errors.\n",
    "- Calculate the feature importance in the merged files using feature importance parameter in a decision tree classifier\n",
    "- Select the features based on the importance for the model\n",
    "\n",
    "**4. Splitting of Data**\n",
    "We need to split the data for training, testing and validation sets so that it would help analyse and improve performance so as to acheive a bias-variance tradeoff\n",
    "- Splitting data into train test and cross validation sets use K-fold validation\n",
    "\n",
    "**4. Benchmark Model creation**\n",
    "We will create the benchmark model with Decision trees classifier as mentioned in the previous section. We will use the sklearn library for the same and since we are looking to predict probablites we will be using the predict_proba method for the same.\n",
    "\n",
    "**5. Benchmark Model Evaluation**\n",
    "We will then evaluate the benchmark model with the AUC-ROC metric and see how well we are performing on the training , cross-validation and testing sets. Based on the results we will make some minor adjustments to the model and see if we can improve the performance of the benchmark model further. If not we would call the same the baseline and move with the solution for the project.\n",
    "\n",
    "**6. Soultion based model creation**\n",
    "For predicting the credit defaulters, we will be predicting the probablities and ensemble techniques are very efficient for these problems. The common ensemble techniques are bagging and boosting. For this project, we would be checking on both the techniques and see which performs better.\n",
    "- Create a model using the Random Forest Classifier: This uses the bagging method and we will use the sklearn library\n",
    "- Create a model using Gradient Boosting Machine Classifier: This uses the boosting method and we will use the LightGBM library\n",
    "\n",
    "**7. Model Evaluvation**\n",
    "We will then evaluate the models with the AUC-ROC metric and see how well we are performing on the training , cross-validation and testing sets. We would plot the results to compare and analyse the performance of the two models on the various datasets. Based on analysis we will check which parameters need further tuning to imporve the performance of the model.\n",
    "\n",
    "**8. Hyper-parameter tunning**\n",
    "Hyper-parameter tunning is the way we can minimize the error and improve the performance of the model. We would employ two different methods to do the tuning.\n",
    "- For the Random Forest model we will use the Grid Search techinique to test different parameter sets.\n",
    "- For Gradient Boosting Machine we will use automated tuning using Bayesian optimization Techniques.\n",
    "\n",
    "*We will create functions for all process from step 4 through 8 and we create a pipeline to do more of a rinse and repeat of the steps till the model provides an much better improvement in performance over our score from the benchmark model.*\n",
    "\n",
    "**9. Prediction**\n",
    "Using the best model fitted we will predict the values for the test dataset provided by Kaggle and submit the same to see what our score is on the leaderboard."
   ]
  },
  {
   "cell_type": "code",
   "execution_count": null,
   "metadata": {},
   "outputs": [],
   "source": []
  }
 ],
 "metadata": {
  "kernelspec": {
   "display_name": "Python 3",
   "language": "python",
   "name": "python3"
  },
  "language_info": {
   "codemirror_mode": {
    "name": "ipython",
    "version": 3
   },
   "file_extension": ".py",
   "mimetype": "text/x-python",
   "name": "python",
   "nbconvert_exporter": "python",
   "pygments_lexer": "ipython3",
   "version": "3.7.0"
  }
 },
 "nbformat": 4,
 "nbformat_minor": 2
}
