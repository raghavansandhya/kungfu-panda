{
 "cells": [
  {
   "cell_type": "code",
   "execution_count": 1,
   "metadata": {
    "_cell_guid": "aaa39fc4-27c0-4312-b0d0-419d357610b9",
    "_uuid": "1e4bd3c0899c770be5d25ad67d0c89f74a1e92d2"
   },
   "outputs": [],
   "source": [
    "# This Python 3 environment comes with many helpful analytics libraries installed\n",
    "# It is defined by the kaggle/python docker image: https://github.com/kaggle/docker-python\n",
    "# For example, here's several helpful packages to load in \n",
    "\n",
    "import numpy as np # linear algebra\n",
    "import pandas as pd # data processing, CSV file I/O (e.g. pd.read_csv)\n",
    "from time import time\n",
    "import matplotlib.pyplot as plt\n",
    "import seaborn as sns\n",
    "\n",
    "# Input data files are available in the \"../input/\" directory.\n",
    "# For example, running this (by clicking run or pressing Shift+Enter) will list the files in the input directory\n",
    "\n",
    "from subprocess import check_output\n",
    "#print(check_output([\"ls\", \"../input/favorita-grocery-sales-forecasting\"]).decode(\"utf8\"))\n",
    "\n",
    "# Any results you write to the current directory are saved as output."
   ]
  },
  {
   "cell_type": "code",
   "execution_count": 3,
   "metadata": {
    "_cell_guid": "5f97035e-bcd2-4111-ab1b-8798bd7624a7",
    "_uuid": "cc7e987daa0a0f204617c13f60eb9c9c31106595"
   },
   "outputs": [
    {
     "name": "stderr",
     "output_type": "stream",
     "text": [
      "C:\\Users\\ragha\\Anaconda3\\lib\\site-packages\\IPython\\core\\interactiveshell.py:2717: DtypeWarning: Columns (5) have mixed types. Specify dtype option on import or set low_memory=False.\n",
      "  interactivity=interactivity, compiler=compiler, result=result)\n"
     ]
    },
    {
     "data": {
      "text/html": [
       "<div>\n",
       "<style>\n",
       "    .dataframe thead tr:only-child th {\n",
       "        text-align: right;\n",
       "    }\n",
       "\n",
       "    .dataframe thead th {\n",
       "        text-align: left;\n",
       "    }\n",
       "\n",
       "    .dataframe tbody tr th {\n",
       "        vertical-align: top;\n",
       "    }\n",
       "</style>\n",
       "<table border=\"1\" class=\"dataframe\">\n",
       "  <thead>\n",
       "    <tr style=\"text-align: right;\">\n",
       "      <th></th>\n",
       "      <th>date</th>\n",
       "      <th>day</th>\n",
       "      <th>month</th>\n",
       "      <th>season</th>\n",
       "      <th>year</th>\n",
       "    </tr>\n",
       "  </thead>\n",
       "  <tbody>\n",
       "    <tr>\n",
       "      <th>0</th>\n",
       "      <td>2013-01-01</td>\n",
       "      <td>1</td>\n",
       "      <td>5</td>\n",
       "      <td>4</td>\n",
       "      <td>2018</td>\n",
       "    </tr>\n",
       "    <tr>\n",
       "      <th>1</th>\n",
       "      <td>2013-01-02</td>\n",
       "      <td>1</td>\n",
       "      <td>5</td>\n",
       "      <td>4</td>\n",
       "      <td>2018</td>\n",
       "    </tr>\n",
       "    <tr>\n",
       "      <th>2</th>\n",
       "      <td>2013-01-03</td>\n",
       "      <td>1</td>\n",
       "      <td>5</td>\n",
       "      <td>4</td>\n",
       "      <td>2018</td>\n",
       "    </tr>\n",
       "    <tr>\n",
       "      <th>3</th>\n",
       "      <td>2013-01-04</td>\n",
       "      <td>1</td>\n",
       "      <td>5</td>\n",
       "      <td>4</td>\n",
       "      <td>2018</td>\n",
       "    </tr>\n",
       "    <tr>\n",
       "      <th>4</th>\n",
       "      <td>2013-01-05</td>\n",
       "      <td>1</td>\n",
       "      <td>5</td>\n",
       "      <td>4</td>\n",
       "      <td>2018</td>\n",
       "    </tr>\n",
       "  </tbody>\n",
       "</table>\n",
       "</div>"
      ],
      "text/plain": [
       "        date  day  month  season  year\n",
       "0 2013-01-01    1      5       4  2018\n",
       "1 2013-01-02    1      5       4  2018\n",
       "2 2013-01-03    1      5       4  2018\n",
       "3 2013-01-04    1      5       4  2018\n",
       "4 2013-01-05    1      5       4  2018"
      ]
     },
     "execution_count": 3,
     "metadata": {},
     "output_type": "execute_result"
    }
   ],
   "source": [
    "# Reading the training and test set dataset of the store\n",
    "#data =pd.read_csv(\"../input/train-sample1/train_sample_1.csv\")\n",
    "# Reading the training and test set dataset of the store\n",
    "#data = pd.read_csv(\"../input/train-sample1/train_sample_1.csv\")\n",
    "#data = pd.read_csv(\"../input/train-10m-file1/train_sample_3.csv\")\n",
    "data = pd.read_csv(\"D:/data/favorita/train.csv\")\n",
    "holiday = pd.read_csv(\"D:/data/favorita/holidays_events.csv\")\n",
    "stores = pd.read_csv(\"D:/data/favorita/stores.csv\")\n",
    "oils = pd.read_csv(\"D:/data/favorita/oil.csv\")\n",
    "items = pd.read_csv(\"D:/data/favorita/items.csv\")\n",
    "\n",
    "trans= pd.read_csv(\"D:/data/favorita/transactions.csv\")\n",
    "test_data = pd.read_csv(\"D:/data/favorita/test.csv\")\n",
    "datesTbl=pd.DataFrame({'date': pd.date_range('2013-01-01','2017-08-31'), 'day':1,'month':5,'year':2018,'season':4})\n",
    "datesTbl.head()\n"
   ]
  },
  {
   "cell_type": "code",
   "execution_count": 4,
   "metadata": {
    "_cell_guid": "678e9b70-315d-4693-8d6b-5b7269026b45",
    "_uuid": "04404e71a3d679904374d4e920c9e9bc77bddc93"
   },
   "outputs": [],
   "source": [
    "# Fill NAs in oil with the average value for that month\n",
    "oils.loc[:,'date'] = pd.to_datetime(oils.loc[:,'date'], errors='coerce')\n",
    "oils = oils.assign(month=oils['date'].dt.strftime('%m'),year =  oils['date'].dt.strftime('%Y'))\n",
    "oil_table = oils.pivot_table(values='dcoilwtico', index=['month','year'], aggfunc=np.mean)\n",
    "def getAverageOilvalue(oil):\n",
    "    return np.round(oil_table.loc[oil['month'],oil['year']]['dcoilwtico'],2)\n",
    "oils['dcoilwtico'].fillna(oils[oils.iloc[:,1].isnull()].apply(getAverageOilvalue,axis = 1), inplace=True)\n",
    "oils = oils.iloc[:,0:2]"
   ]
  },
  {
   "cell_type": "code",
   "execution_count": 5,
   "metadata": {
    "_cell_guid": "2aa26ed0-de56-4b45-bd34-c0adf3a2fd4f",
    "_uuid": "7d45451978364ecd6b2870b033eb7e0b3a43a9ee",
    "collapsed": true
   },
   "outputs": [],
   "source": [
    "#Change the date in the input and test to datetime and fill na \n",
    "data.loc[:,'date'] = pd.to_datetime(data.loc[:,'date'], errors='coerce')\n",
    "data.loc[:,'onpromotion'] = data['onpromotion'].fillna(False)\n",
    "test_data.loc[:,'date'] = pd.to_datetime(test_data.loc[:,'date'], errors='coerce')\n",
    "# No NAS for on promotion in test data"
   ]
  },
  {
   "cell_type": "code",
   "execution_count": null,
   "metadata": {
    "_cell_guid": "ec211e82-35d1-485a-940d-2a8cbe6cd1ac",
    "_uuid": "4beae97542b904352b7df7328e041b4decd27ca2",
    "collapsed": true
   },
   "outputs": [],
   "source": [
    "#test_data.apply(lambda x: sum(x.isnull()))\n",
    "oil_table\n",
    "datesTbl.groupby(['year'])['month'].max()\n"
   ]
  },
  {
   "cell_type": "code",
   "execution_count": 6,
   "metadata": {
    "_cell_guid": "288b725a-a108-4930-9cc6-7fa9f6683865",
    "_uuid": "484db35d600077c9995e7e587f57fa837d884e5c",
    "collapsed": true
   },
   "outputs": [],
   "source": [
    "# Encode onpromotion  prior to join to save space\n",
    "from sklearn.preprocessing import LabelEncoder\n",
    "le = LabelEncoder()  \n",
    "data['onpromotion'] = le.fit_transform(data['onpromotion'])\n",
    "test_data['onpromotion'] = le.fit_transform(test_data['onpromotion'])"
   ]
  },
  {
   "cell_type": "code",
   "execution_count": 7,
   "metadata": {
    "_cell_guid": "e4d611b3-412c-4642-b132-8bf124a581c4",
    "_uuid": "92e456c229b8fcd337b1b7e8cfbc8391db736f9b",
    "collapsed": true
   },
   "outputs": [],
   "source": [
    "# Get all the date table entries\n",
    "from datetime import date as dte\n",
    "def getSeason(month):\n",
    "    if month in ['01','02','03']:\n",
    "        season = 1\n",
    "    elif month in ['04','05','06']:\n",
    "        season = 2\n",
    "    elif month in ['07','08','09']:\n",
    "        season = 3\n",
    "    else:\n",
    "        season = 4\n",
    "    return season    \n",
    "\n",
    "#data_new = data_new.assign(day=data_new['date'].dt.strftime('%d'),month=data_new['date'].dt.strftime('%m'),year =  data_new['date'].dt.strftime('%Y'))\n",
    "#data_new['month'],data_new['year'] = data_new.date.apply(getMonthYear)\n",
    "#data_new = data_new.assign(month=data_new.date.apply(lambda x: x.month),year =  data_new.date.apply(lambda x: x.year))\n",
    "#data_new = data_new.assign(season=data_new.month.apply(getSeason))\n",
    "\n",
    "datesTbl.loc[:,'day'] = datesTbl['date'].dt.strftime('%d')\n",
    "datesTbl.loc[:,'month'] = datesTbl['date'].dt.strftime('%m')\n",
    "datesTbl.loc[:,'year'] = datesTbl['date'].dt.strftime('%Y')\n",
    "datesTbl.loc[:,'season'] = datesTbl.month.apply(getSeason)"
   ]
  },
  {
   "cell_type": "code",
   "execution_count": 8,
   "metadata": {
    "_cell_guid": "ebea61ea-10fb-41ba-b488-36cd3ce67ff8",
    "_uuid": "09fd6cefd9b0d15a0069358372521ab36678b17b",
    "collapsed": true
   },
   "outputs": [],
   "source": [
    "trans.loc[:,'date'] = pd.to_datetime(trans.loc[:,'date'], errors='coerce')\n",
    "#trans.apply(lambda x: sum(x.isnull()))\n",
    "#trans.head()\n",
    "trans = trans.assign(month=trans['date'].dt.strftime('%m'),year =  trans['date'].dt.strftime('%Y'))\n",
    "trans_table = trans.pivot_table(values='transactions', index=['month','year','store_nbr'], aggfunc=np.mean)\n",
    "def getAverageTransactions(trans):\n",
    "    return np.round(trans_table.loc[trans['month'],trans['year'],trans['store_nbr']]['transactions'])"
   ]
  },
  {
   "cell_type": "code",
   "execution_count": 9,
   "metadata": {
    "_cell_guid": "2b5218e9-b525-469b-97fd-bb0647060cfe",
    "_uuid": "5fcaa01a2d65bab2b787f7f0ca518924c832f81b",
    "collapsed": true
   },
   "outputs": [],
   "source": [
    "#Process item and store\n",
    "\n",
    "def getFamily(family):\n",
    "    if family in ['BREAD/BAKERY', 'DELI', 'POULTRY','EGGS', 'MEATS', 'SEAFOOD', 'PREPARED FOODS', 'PRODUCE', 'FROZEN FOODS', 'DAIRY','FOOD']:\n",
    "        seg = 'FOOD'\n",
    "    elif family in ['LIQUOR,WINE,BEER', 'BEVERAGES','DRINK']:\n",
    "        seg = 'DRINK'\n",
    "    elif family in ['PERSONAL CARE', 'LINGERIE','BEAUTY','BABY CARE','LADIESWEAR', 'CLOTHING and CARE']:\n",
    "        seg = 'CLOTHING and CARE'\n",
    "    elif family in ['MAGAZINES','SCHOOL AND OFFICE SUPPLIES','CELEBRATION','BOOKS','STATIONARY']:\n",
    "        seg = 'STATIONARY'\n",
    "    elif family in ['CLEANING','LAWN AND GARDEN','HOME CARE','HOME APPLIANCES', 'HOME AND KITCHEN II','HOME AND KITCHEN I','HOME ITEMS']:\n",
    "        seg = 'HOME ITEMS'\n",
    "    elif family in ['GROCERY I','GROCERY II','GROCERY']:\n",
    "        seg = 'GROCERY'\n",
    "    else:\n",
    "        seg = 'MISC'\n",
    "    return seg  \n",
    "\n",
    "items.family = items.family.apply(getFamily)\n",
    "#encode  family before join\n",
    "items['family'] = le.fit_transform(items['family'])\n",
    "stores['type'] = le.fit_transform(stores['type'])"
   ]
  },
  {
   "cell_type": "code",
   "execution_count": 10,
   "metadata": {
    "_cell_guid": "121eb9df-a311-4145-a35d-70f71a552c9c",
    "_uuid": "e8405f686647fc9021f49d30a8d3dbd59f17b976"
   },
   "outputs": [
    {
     "name": "stderr",
     "output_type": "stream",
     "text": [
      "C:\\Users\\ragha\\Anaconda3\\lib\\site-packages\\pandas\\core\\indexing.py:517: SettingWithCopyWarning: \n",
      "A value is trying to be set on a copy of a slice from a DataFrame.\n",
      "Try using .loc[row_indexer,col_indexer] = value instead\n",
      "\n",
      "See the caveats in the documentation: http://pandas.pydata.org/pandas-docs/stable/indexing.html#indexing-view-versus-copy\n",
      "  self.obj[item] = s\n"
     ]
    },
    {
     "data": {
      "text/plain": [
       "array(['Holiday', 'Special', 'Additional', 'Work Day'], dtype=object)"
      ]
     },
     "execution_count": 10,
     "metadata": {},
     "output_type": "execute_result"
    }
   ],
   "source": [
    "#Process holidays\n",
    "def getHoliday(holiday):\n",
    "    if holiday in ['Holiday', 'Event']:\n",
    "        seg = 'Holiday'\n",
    "    elif holiday in ['Transfer', 'Bridge', 'Special']:\n",
    "        seg = 'Special'\n",
    "    elif holiday in ['Work Day']:\n",
    "        seg = 'Work Day'\n",
    "    else:\n",
    "        seg = 'Additional'\n",
    "    return seg  \n",
    "\n",
    "#remove duplicate dates from this file\n",
    "holi_nodup= holiday.drop_duplicates('date')\n",
    "holi_nodup.loc[:,'date'] = pd.to_datetime(holi_nodup.loc[:,'date'], errors='coerce')\n",
    "# Add weights to items file based on perishable\n",
    "items = items.assign(wt=items.perishable.apply(lambda x: 1.5 if x == 1 else 1.0))\n",
    "holi_nodup = holi_nodup.iloc[:,0:2]\n",
    "holi_nodup.loc[:,'type'] =holi_nodup.type.apply(getHoliday)\n",
    "holi_nodup.type.unique()\n"
   ]
  },
  {
   "cell_type": "code",
   "execution_count": 11,
   "metadata": {
    "_cell_guid": "4356d896-f907-4fe1-8333-e6b110b7fba6",
    "_uuid": "2b4e26f01b67e1dabea7c15c35002f5f6382004a",
    "collapsed": true,
    "scrolled": false
   },
   "outputs": [],
   "source": [
    "#Merge all small files with dates table\n",
    "# Merging Oil and filling NA's\n",
    "datesTbl_new= pd.merge(datesTbl,oils, on='date',how='left')\n",
    "datesTbl_new['dcoilwtico'].fillna(datesTbl_new[datesTbl_new['dcoilwtico'].isnull()].apply(getAverageOilvalue,axis = 1), inplace=True)\n",
    "\n",
    "#Merging holiday, filling NA's and encoding\n",
    "datesTbl_new = pd.merge(datesTbl_new,holi_nodup, on='date',how='left')\n",
    "datesTbl_new.type = datesTbl_new.type.fillna(\"Work Day\")\n",
    "datesTbl_new['type'] = le.fit_transform(datesTbl_new['type'])\n",
    "\n",
    "#Merging transactions\n",
    "#datesTbl_new = pd.merge(datesTbl_new,transactions, on=['date','store_nbr'],how='left')\n",
    "\n",
    "#Get day of the week\n",
    "datesTbl_new = datesTbl_new.assign(dow=datesTbl_new.date.apply(dte.weekday))\n"
   ]
  },
  {
   "cell_type": "code",
   "execution_count": 12,
   "metadata": {
    "_cell_guid": "a5ef039a-237a-46e6-898b-4603176c2e41",
    "_uuid": "25e6110abe4a38968c86daaba494644986ae8295"
   },
   "outputs": [
    {
     "ename": "MemoryError",
     "evalue": "",
     "output_type": "error",
     "traceback": [
      "\u001b[1;31m---------------------------------------------------------------------------\u001b[0m",
      "\u001b[1;31mMemoryError\u001b[0m                               Traceback (most recent call last)",
      "\u001b[1;32m<ipython-input-12-400e1049639f>\u001b[0m in \u001b[0;36m<module>\u001b[1;34m()\u001b[0m\n\u001b[0;32m      3\u001b[0m \u001b[0mtest_new\u001b[0m \u001b[1;33m=\u001b[0m \u001b[0mpd\u001b[0m\u001b[1;33m.\u001b[0m\u001b[0mmerge\u001b[0m\u001b[1;33m(\u001b[0m\u001b[0mtest_data\u001b[0m\u001b[1;33m,\u001b[0m\u001b[0mdatesTbl_new\u001b[0m\u001b[1;33m,\u001b[0m \u001b[0mon\u001b[0m\u001b[1;33m=\u001b[0m\u001b[1;34m'date'\u001b[0m\u001b[1;33m,\u001b[0m\u001b[0mhow\u001b[0m\u001b[1;33m=\u001b[0m\u001b[1;34m'left'\u001b[0m\u001b[1;33m)\u001b[0m\u001b[1;33m\u001b[0m\u001b[0m\n\u001b[0;32m      4\u001b[0m \u001b[1;31m#Stores, transaction and item merging\u001b[0m\u001b[1;33m\u001b[0m\u001b[1;33m\u001b[0m\u001b[0m\n\u001b[1;32m----> 5\u001b[1;33m \u001b[0mdata_new\u001b[0m \u001b[1;33m=\u001b[0m \u001b[0mpd\u001b[0m\u001b[1;33m.\u001b[0m\u001b[0mmerge\u001b[0m\u001b[1;33m(\u001b[0m\u001b[0mdata_new\u001b[0m\u001b[1;33m,\u001b[0m\u001b[0mstores\u001b[0m\u001b[1;33m,\u001b[0m \u001b[0mon\u001b[0m\u001b[1;33m=\u001b[0m\u001b[1;34m'store_nbr'\u001b[0m\u001b[1;33m,\u001b[0m\u001b[0mhow\u001b[0m\u001b[1;33m=\u001b[0m\u001b[1;34m'left'\u001b[0m\u001b[1;33m)\u001b[0m\u001b[1;33m\u001b[0m\u001b[0m\n\u001b[0m\u001b[0;32m      6\u001b[0m \u001b[0mtest_new\u001b[0m \u001b[1;33m=\u001b[0m \u001b[0mpd\u001b[0m\u001b[1;33m.\u001b[0m\u001b[0mmerge\u001b[0m\u001b[1;33m(\u001b[0m\u001b[0mtest_new\u001b[0m\u001b[1;33m,\u001b[0m\u001b[0mstores\u001b[0m\u001b[1;33m,\u001b[0m \u001b[0mon\u001b[0m\u001b[1;33m=\u001b[0m\u001b[1;34m'store_nbr'\u001b[0m\u001b[1;33m,\u001b[0m\u001b[0mhow\u001b[0m\u001b[1;33m=\u001b[0m\u001b[1;34m'left'\u001b[0m\u001b[1;33m)\u001b[0m\u001b[1;33m\u001b[0m\u001b[0m\n\u001b[0;32m      7\u001b[0m \u001b[0mdata_new\u001b[0m \u001b[1;33m=\u001b[0m \u001b[0mpd\u001b[0m\u001b[1;33m.\u001b[0m\u001b[0mmerge\u001b[0m\u001b[1;33m(\u001b[0m\u001b[0mdata_new\u001b[0m\u001b[1;33m,\u001b[0m\u001b[0mitems\u001b[0m\u001b[1;33m,\u001b[0m \u001b[0mon\u001b[0m\u001b[1;33m=\u001b[0m\u001b[1;34m'item_nbr'\u001b[0m\u001b[1;33m,\u001b[0m\u001b[0mhow\u001b[0m\u001b[1;33m=\u001b[0m\u001b[1;34m'left'\u001b[0m\u001b[1;33m)\u001b[0m\u001b[1;33m\u001b[0m\u001b[0m\n",
      "\u001b[1;32mC:\\Users\\ragha\\Anaconda3\\lib\\site-packages\\pandas\\core\\reshape\\merge.py\u001b[0m in \u001b[0;36mmerge\u001b[1;34m(left, right, how, on, left_on, right_on, left_index, right_index, sort, suffixes, copy, indicator)\u001b[0m\n\u001b[0;32m     52\u001b[0m                          \u001b[0mright_index\u001b[0m\u001b[1;33m=\u001b[0m\u001b[0mright_index\u001b[0m\u001b[1;33m,\u001b[0m \u001b[0msort\u001b[0m\u001b[1;33m=\u001b[0m\u001b[0msort\u001b[0m\u001b[1;33m,\u001b[0m \u001b[0msuffixes\u001b[0m\u001b[1;33m=\u001b[0m\u001b[0msuffixes\u001b[0m\u001b[1;33m,\u001b[0m\u001b[1;33m\u001b[0m\u001b[0m\n\u001b[0;32m     53\u001b[0m                          copy=copy, indicator=indicator)\n\u001b[1;32m---> 54\u001b[1;33m     \u001b[1;32mreturn\u001b[0m \u001b[0mop\u001b[0m\u001b[1;33m.\u001b[0m\u001b[0mget_result\u001b[0m\u001b[1;33m(\u001b[0m\u001b[1;33m)\u001b[0m\u001b[1;33m\u001b[0m\u001b[0m\n\u001b[0m\u001b[0;32m     55\u001b[0m \u001b[1;33m\u001b[0m\u001b[0m\n\u001b[0;32m     56\u001b[0m \u001b[1;33m\u001b[0m\u001b[0m\n",
      "\u001b[1;32mC:\\Users\\ragha\\Anaconda3\\lib\\site-packages\\pandas\\core\\reshape\\merge.py\u001b[0m in \u001b[0;36mget_result\u001b[1;34m(self)\u001b[0m\n\u001b[0;32m    581\u001b[0m             \u001b[1;33m[\u001b[0m\u001b[1;33m(\u001b[0m\u001b[0mldata\u001b[0m\u001b[1;33m,\u001b[0m \u001b[0mlindexers\u001b[0m\u001b[1;33m)\u001b[0m\u001b[1;33m,\u001b[0m \u001b[1;33m(\u001b[0m\u001b[0mrdata\u001b[0m\u001b[1;33m,\u001b[0m \u001b[0mrindexers\u001b[0m\u001b[1;33m)\u001b[0m\u001b[1;33m]\u001b[0m\u001b[1;33m,\u001b[0m\u001b[1;33m\u001b[0m\u001b[0m\n\u001b[0;32m    582\u001b[0m             \u001b[0maxes\u001b[0m\u001b[1;33m=\u001b[0m\u001b[1;33m[\u001b[0m\u001b[0mllabels\u001b[0m\u001b[1;33m.\u001b[0m\u001b[0mappend\u001b[0m\u001b[1;33m(\u001b[0m\u001b[0mrlabels\u001b[0m\u001b[1;33m)\u001b[0m\u001b[1;33m,\u001b[0m \u001b[0mjoin_index\u001b[0m\u001b[1;33m]\u001b[0m\u001b[1;33m,\u001b[0m\u001b[1;33m\u001b[0m\u001b[0m\n\u001b[1;32m--> 583\u001b[1;33m             concat_axis=0, copy=self.copy)\n\u001b[0m\u001b[0;32m    584\u001b[0m \u001b[1;33m\u001b[0m\u001b[0m\n\u001b[0;32m    585\u001b[0m         \u001b[0mtyp\u001b[0m \u001b[1;33m=\u001b[0m \u001b[0mself\u001b[0m\u001b[1;33m.\u001b[0m\u001b[0mleft\u001b[0m\u001b[1;33m.\u001b[0m\u001b[0m_constructor\u001b[0m\u001b[1;33m\u001b[0m\u001b[0m\n",
      "\u001b[1;32mC:\\Users\\ragha\\Anaconda3\\lib\\site-packages\\pandas\\core\\internals.py\u001b[0m in \u001b[0;36mconcatenate_block_managers\u001b[1;34m(mgrs_indexers, axes, concat_axis, copy)\u001b[0m\n\u001b[0;32m   4830\u001b[0m     blocks = [make_block(\n\u001b[0;32m   4831\u001b[0m         \u001b[0mconcatenate_join_units\u001b[0m\u001b[1;33m(\u001b[0m\u001b[0mjoin_units\u001b[0m\u001b[1;33m,\u001b[0m \u001b[0mconcat_axis\u001b[0m\u001b[1;33m,\u001b[0m \u001b[0mcopy\u001b[0m\u001b[1;33m=\u001b[0m\u001b[0mcopy\u001b[0m\u001b[1;33m)\u001b[0m\u001b[1;33m,\u001b[0m\u001b[1;33m\u001b[0m\u001b[0m\n\u001b[1;32m-> 4832\u001b[1;33m         placement=placement) for placement, join_units in concat_plan]\n\u001b[0m\u001b[0;32m   4833\u001b[0m \u001b[1;33m\u001b[0m\u001b[0m\n\u001b[0;32m   4834\u001b[0m     \u001b[1;32mreturn\u001b[0m \u001b[0mBlockManager\u001b[0m\u001b[1;33m(\u001b[0m\u001b[0mblocks\u001b[0m\u001b[1;33m,\u001b[0m \u001b[0maxes\u001b[0m\u001b[1;33m)\u001b[0m\u001b[1;33m\u001b[0m\u001b[0m\n",
      "\u001b[1;32mC:\\Users\\ragha\\Anaconda3\\lib\\site-packages\\pandas\\core\\internals.py\u001b[0m in \u001b[0;36m<listcomp>\u001b[1;34m(.0)\u001b[0m\n\u001b[0;32m   4830\u001b[0m     blocks = [make_block(\n\u001b[0;32m   4831\u001b[0m         \u001b[0mconcatenate_join_units\u001b[0m\u001b[1;33m(\u001b[0m\u001b[0mjoin_units\u001b[0m\u001b[1;33m,\u001b[0m \u001b[0mconcat_axis\u001b[0m\u001b[1;33m,\u001b[0m \u001b[0mcopy\u001b[0m\u001b[1;33m=\u001b[0m\u001b[0mcopy\u001b[0m\u001b[1;33m)\u001b[0m\u001b[1;33m,\u001b[0m\u001b[1;33m\u001b[0m\u001b[0m\n\u001b[1;32m-> 4832\u001b[1;33m         placement=placement) for placement, join_units in concat_plan]\n\u001b[0m\u001b[0;32m   4833\u001b[0m \u001b[1;33m\u001b[0m\u001b[0m\n\u001b[0;32m   4834\u001b[0m     \u001b[1;32mreturn\u001b[0m \u001b[0mBlockManager\u001b[0m\u001b[1;33m(\u001b[0m\u001b[0mblocks\u001b[0m\u001b[1;33m,\u001b[0m \u001b[0maxes\u001b[0m\u001b[1;33m)\u001b[0m\u001b[1;33m\u001b[0m\u001b[0m\n",
      "\u001b[1;32mC:\\Users\\ragha\\Anaconda3\\lib\\site-packages\\pandas\\core\\internals.py\u001b[0m in \u001b[0;36mconcatenate_join_units\u001b[1;34m(join_units, concat_axis, copy)\u001b[0m\n\u001b[0;32m   4937\u001b[0m     to_concat = [ju.get_reindexed_values(empty_dtype=empty_dtype,\n\u001b[0;32m   4938\u001b[0m                                          upcasted_na=upcasted_na)\n\u001b[1;32m-> 4939\u001b[1;33m                  for ju in join_units]\n\u001b[0m\u001b[0;32m   4940\u001b[0m \u001b[1;33m\u001b[0m\u001b[0m\n\u001b[0;32m   4941\u001b[0m     \u001b[1;32mif\u001b[0m \u001b[0mlen\u001b[0m\u001b[1;33m(\u001b[0m\u001b[0mto_concat\u001b[0m\u001b[1;33m)\u001b[0m \u001b[1;33m==\u001b[0m \u001b[1;36m1\u001b[0m\u001b[1;33m:\u001b[0m\u001b[1;33m\u001b[0m\u001b[0m\n",
      "\u001b[1;32mC:\\Users\\ragha\\Anaconda3\\lib\\site-packages\\pandas\\core\\internals.py\u001b[0m in \u001b[0;36m<listcomp>\u001b[1;34m(.0)\u001b[0m\n\u001b[0;32m   4937\u001b[0m     to_concat = [ju.get_reindexed_values(empty_dtype=empty_dtype,\n\u001b[0;32m   4938\u001b[0m                                          upcasted_na=upcasted_na)\n\u001b[1;32m-> 4939\u001b[1;33m                  for ju in join_units]\n\u001b[0m\u001b[0;32m   4940\u001b[0m \u001b[1;33m\u001b[0m\u001b[0m\n\u001b[0;32m   4941\u001b[0m     \u001b[1;32mif\u001b[0m \u001b[0mlen\u001b[0m\u001b[1;33m(\u001b[0m\u001b[0mto_concat\u001b[0m\u001b[1;33m)\u001b[0m \u001b[1;33m==\u001b[0m \u001b[1;36m1\u001b[0m\u001b[1;33m:\u001b[0m\u001b[1;33m\u001b[0m\u001b[0m\n",
      "\u001b[1;32mC:\\Users\\ragha\\Anaconda3\\lib\\site-packages\\pandas\\core\\internals.py\u001b[0m in \u001b[0;36mget_reindexed_values\u001b[1;34m(self, empty_dtype, upcasted_na)\u001b[0m\n\u001b[0;32m   5239\u001b[0m             \u001b[1;32mfor\u001b[0m \u001b[0max\u001b[0m\u001b[1;33m,\u001b[0m \u001b[0mindexer\u001b[0m \u001b[1;32min\u001b[0m \u001b[0mself\u001b[0m\u001b[1;33m.\u001b[0m\u001b[0mindexers\u001b[0m\u001b[1;33m.\u001b[0m\u001b[0mitems\u001b[0m\u001b[1;33m(\u001b[0m\u001b[1;33m)\u001b[0m\u001b[1;33m:\u001b[0m\u001b[1;33m\u001b[0m\u001b[0m\n\u001b[0;32m   5240\u001b[0m                 values = algos.take_nd(values, indexer, axis=ax,\n\u001b[1;32m-> 5241\u001b[1;33m                                        fill_value=fill_value)\n\u001b[0m\u001b[0;32m   5242\u001b[0m \u001b[1;33m\u001b[0m\u001b[0m\n\u001b[0;32m   5243\u001b[0m         \u001b[1;32mreturn\u001b[0m \u001b[0mvalues\u001b[0m\u001b[1;33m\u001b[0m\u001b[0m\n",
      "\u001b[1;32mC:\\Users\\ragha\\Anaconda3\\lib\\site-packages\\pandas\\core\\algorithms.py\u001b[0m in \u001b[0;36mtake_nd\u001b[1;34m(arr, indexer, axis, out, fill_value, mask_info, allow_fill)\u001b[0m\n\u001b[0;32m   1460\u001b[0m             \u001b[0mout\u001b[0m \u001b[1;33m=\u001b[0m \u001b[0mnp\u001b[0m\u001b[1;33m.\u001b[0m\u001b[0mempty\u001b[0m\u001b[1;33m(\u001b[0m\u001b[0mout_shape\u001b[0m\u001b[1;33m,\u001b[0m \u001b[0mdtype\u001b[0m\u001b[1;33m=\u001b[0m\u001b[0mdtype\u001b[0m\u001b[1;33m,\u001b[0m \u001b[0morder\u001b[0m\u001b[1;33m=\u001b[0m\u001b[1;34m'F'\u001b[0m\u001b[1;33m)\u001b[0m\u001b[1;33m\u001b[0m\u001b[0m\n\u001b[0;32m   1461\u001b[0m         \u001b[1;32melse\u001b[0m\u001b[1;33m:\u001b[0m\u001b[1;33m\u001b[0m\u001b[0m\n\u001b[1;32m-> 1462\u001b[1;33m             \u001b[0mout\u001b[0m \u001b[1;33m=\u001b[0m \u001b[0mnp\u001b[0m\u001b[1;33m.\u001b[0m\u001b[0mempty\u001b[0m\u001b[1;33m(\u001b[0m\u001b[0mout_shape\u001b[0m\u001b[1;33m,\u001b[0m \u001b[0mdtype\u001b[0m\u001b[1;33m=\u001b[0m\u001b[0mdtype\u001b[0m\u001b[1;33m)\u001b[0m\u001b[1;33m\u001b[0m\u001b[0m\n\u001b[0m\u001b[0;32m   1463\u001b[0m \u001b[1;33m\u001b[0m\u001b[0m\n\u001b[0;32m   1464\u001b[0m     func = _get_take_nd_function(arr.ndim, arr.dtype, out.dtype, axis=axis,\n",
      "\u001b[1;31mMemoryError\u001b[0m: "
     ]
    }
   ],
   "source": [
    "#Merge date tables and train and test data \n",
    "data_new = pd.merge(data,datesTbl_new, on='date',how='left')\n",
    "test_new = pd.merge(test_data,datesTbl_new, on='date',how='left')\n",
    "#Stores, transaction and item merging \n",
    "data_new = pd.merge(data_new,stores, on='store_nbr',how='left')\n",
    "test_new = pd.merge(test_new,stores, on='store_nbr',how='left')\n",
    "data_new = pd.merge(data_new,items, on='item_nbr',how='left')\n",
    "test_new = pd.merge(test_new,items, on='item_nbr',how='left')\n",
    "#data_new = pd.merge(data_new,transactions, on=['date','store_nbr'],how='left')\n",
    "#test_new = pd.merge(test_new,transactions, on=['date','store_nbr'],how='left')\n",
    "#data_new['type_y'] = le.fit_transform(data_new['type_y'])\n",
    "#test_new['type_y'] = le.fit_transform(test_new['type_y'])\n",
    "data_new.unit_sales = data_new.unit_sales.apply(lambda x: 0 if x < 0 else x)\n"
   ]
  },
  {
   "cell_type": "code",
   "execution_count": null,
   "metadata": {
    "_cell_guid": "e31e1908-6fbc-47fe-92c7-bf6c2560951e",
    "_uuid": "2eac53c9010c84cf10e9f514a9d2e657255bc8c8",
    "collapsed": true
   },
   "outputs": [],
   "source": [
    "#data_new.item_nbr.nunique()\n",
    "#cnt = data_new[['id','store_nbr']].groupby('store_nbr').agg(['count'])\n",
    "#top_5_stores = cnt.sort_values([('id','count')],ascending=False).iloc[0:5]\n",
    "#mask = data_new['store_nbr'].apply(lambda x: x in top_5_stores.index)\n",
    "#sample = data_new[mask]\n",
    "#sample.head()"
   ]
  },
  {
   "cell_type": "code",
   "execution_count": 15,
   "metadata": {
    "_uuid": "87f9c630401339505428f7f40e1f2ccc9b4760a1"
   },
   "outputs": [
    {
     "name": "stderr",
     "output_type": "stream",
     "text": [
      "/opt/conda/lib/python3.6/site-packages/numpy/core/fromnumeric.py:57: FutureWarning: reshape is deprecated and will raise in a subsequent release. Please use .values.reshape(...) instead\n",
      "  return getattr(obj, method)(*args, **kwds)\n"
     ]
    },
    {
     "data": {
      "text/plain": [
       "<matplotlib.axes._subplots.AxesSubplot at 0x7f8074f55860>"
      ]
     },
     "execution_count": 15,
     "metadata": {},
     "output_type": "execute_result"
    },
    {
     "data": {
      "image/png": "[encoded data removed]",
      "text/plain": [
       "<matplotlib.figure.Figure at 0x7f8074f56160>"
      ]
     },
     "metadata": {},
     "output_type": "display_data"
    }
   ],
   "source": [
    "data_new.boxplot('unit_sales',by = 'family')"
   ]
  },
  {
   "cell_type": "code",
   "execution_count": 14,
   "metadata": {
    "_cell_guid": "fe4b61e6-dfea-45c2-9fc6-d2db39ca0824",
    "_uuid": "36643fc3f42ecd576517154b1b2add2c178a9f07"
   },
   "outputs": [
    {
     "data": {
      "text/html": [
       "<div>\n",
       "<style>\n",
       "    .dataframe thead tr:only-child th {\n",
       "        text-align: right;\n",
       "    }\n",
       "\n",
       "    .dataframe thead th {\n",
       "        text-align: left;\n",
       "    }\n",
       "\n",
       "    .dataframe tbody tr th {\n",
       "        vertical-align: top;\n",
       "    }\n",
       "</style>\n",
       "<table border=\"1\" class=\"dataframe\">\n",
       "  <thead>\n",
       "    <tr style=\"text-align: right;\">\n",
       "      <th></th>\n",
       "      <th>Unnamed: 0</th>\n",
       "      <th>id</th>\n",
       "      <th>date</th>\n",
       "      <th>store_nbr</th>\n",
       "      <th>item_nbr</th>\n",
       "      <th>unit_sales</th>\n",
       "      <th>onpromotion</th>\n",
       "      <th>day</th>\n",
       "      <th>month</th>\n",
       "      <th>season</th>\n",
       "      <th>...</th>\n",
       "      <th>type_x</th>\n",
       "      <th>dow</th>\n",
       "      <th>city</th>\n",
       "      <th>state</th>\n",
       "      <th>type_y</th>\n",
       "      <th>cluster</th>\n",
       "      <th>family</th>\n",
       "      <th>class</th>\n",
       "      <th>perishable</th>\n",
       "      <th>wt</th>\n",
       "    </tr>\n",
       "  </thead>\n",
       "  <tbody>\n",
       "    <tr>\n",
       "      <th>0</th>\n",
       "      <td>33064456</td>\n",
       "      <td>33064456</td>\n",
       "      <td>2014-10-15</td>\n",
       "      <td>1</td>\n",
       "      <td>1463820</td>\n",
       "      <td>22.0</td>\n",
       "      <td>0</td>\n",
       "      <td>15</td>\n",
       "      <td>10</td>\n",
       "      <td>4</td>\n",
       "      <td>...</td>\n",
       "      <td>3</td>\n",
       "      <td>2</td>\n",
       "      <td>Quito</td>\n",
       "      <td>Pichincha</td>\n",
       "      <td>3</td>\n",
       "      <td>13</td>\n",
       "      <td>1</td>\n",
       "      <td>1148</td>\n",
       "      <td>0</td>\n",
       "      <td>1.0</td>\n",
       "    </tr>\n",
       "    <tr>\n",
       "      <th>1</th>\n",
       "      <td>84511441</td>\n",
       "      <td>84511441</td>\n",
       "      <td>2016-07-09</td>\n",
       "      <td>37</td>\n",
       "      <td>311954</td>\n",
       "      <td>1.0</td>\n",
       "      <td>0</td>\n",
       "      <td>09</td>\n",
       "      <td>07</td>\n",
       "      <td>3</td>\n",
       "      <td>...</td>\n",
       "      <td>3</td>\n",
       "      <td>5</td>\n",
       "      <td>Cuenca</td>\n",
       "      <td>Azuay</td>\n",
       "      <td>3</td>\n",
       "      <td>2</td>\n",
       "      <td>4</td>\n",
       "      <td>3006</td>\n",
       "      <td>0</td>\n",
       "      <td>1.0</td>\n",
       "    </tr>\n",
       "    <tr>\n",
       "      <th>2</th>\n",
       "      <td>59951838</td>\n",
       "      <td>59951838</td>\n",
       "      <td>2015-10-22</td>\n",
       "      <td>23</td>\n",
       "      <td>1148719</td>\n",
       "      <td>1.0</td>\n",
       "      <td>0</td>\n",
       "      <td>22</td>\n",
       "      <td>10</td>\n",
       "      <td>4</td>\n",
       "      <td>...</td>\n",
       "      <td>3</td>\n",
       "      <td>3</td>\n",
       "      <td>Ambato</td>\n",
       "      <td>Tungurahua</td>\n",
       "      <td>3</td>\n",
       "      <td>9</td>\n",
       "      <td>3</td>\n",
       "      <td>1032</td>\n",
       "      <td>0</td>\n",
       "      <td>1.0</td>\n",
       "    </tr>\n",
       "    <tr>\n",
       "      <th>3</th>\n",
       "      <td>82520568</td>\n",
       "      <td>82520568</td>\n",
       "      <td>2016-06-18</td>\n",
       "      <td>47</td>\n",
       "      <td>1584365</td>\n",
       "      <td>9.0</td>\n",
       "      <td>0</td>\n",
       "      <td>18</td>\n",
       "      <td>06</td>\n",
       "      <td>2</td>\n",
       "      <td>...</td>\n",
       "      <td>3</td>\n",
       "      <td>5</td>\n",
       "      <td>Quito</td>\n",
       "      <td>Pichincha</td>\n",
       "      <td>0</td>\n",
       "      <td>14</td>\n",
       "      <td>0</td>\n",
       "      <td>7780</td>\n",
       "      <td>0</td>\n",
       "      <td>1.0</td>\n",
       "    </tr>\n",
       "    <tr>\n",
       "      <th>4</th>\n",
       "      <td>61235692</td>\n",
       "      <td>61235692</td>\n",
       "      <td>2015-11-05</td>\n",
       "      <td>21</td>\n",
       "      <td>119193</td>\n",
       "      <td>4.0</td>\n",
       "      <td>0</td>\n",
       "      <td>05</td>\n",
       "      <td>11</td>\n",
       "      <td>4</td>\n",
       "      <td>...</td>\n",
       "      <td>3</td>\n",
       "      <td>3</td>\n",
       "      <td>Santo Domingo</td>\n",
       "      <td>Santo Domingo de los Tsachilas</td>\n",
       "      <td>1</td>\n",
       "      <td>6</td>\n",
       "      <td>4</td>\n",
       "      <td>3044</td>\n",
       "      <td>0</td>\n",
       "      <td>1.0</td>\n",
       "    </tr>\n",
       "  </tbody>\n",
       "</table>\n",
       "<p>5 rows × 22 columns</p>\n",
       "</div>"
      ],
      "text/plain": [
       "   Unnamed: 0        id       date  store_nbr  item_nbr  unit_sales  \\\n",
       "0    33064456  33064456 2014-10-15          1   1463820        22.0   \n",
       "1    84511441  84511441 2016-07-09         37    311954         1.0   \n",
       "2    59951838  59951838 2015-10-22         23   1148719         1.0   \n",
       "3    82520568  82520568 2016-06-18         47   1584365         9.0   \n",
       "4    61235692  61235692 2015-11-05         21    119193         4.0   \n",
       "\n",
       "   onpromotion day month  season ...  type_x  dow           city  \\\n",
       "0            0  15    10       4 ...       3    2          Quito   \n",
       "1            0  09    07       3 ...       3    5         Cuenca   \n",
       "2            0  22    10       4 ...       3    3         Ambato   \n",
       "3            0  18    06       2 ...       3    5          Quito   \n",
       "4            0  05    11       4 ...       3    3  Santo Domingo   \n",
       "\n",
       "                            state type_y cluster  family  class  perishable  \\\n",
       "0                       Pichincha      3      13       1   1148           0   \n",
       "1                           Azuay      3       2       4   3006           0   \n",
       "2                      Tungurahua      3       9       3   1032           0   \n",
       "3                       Pichincha      0      14       0   7780           0   \n",
       "4  Santo Domingo de los Tsachilas      1       6       4   3044           0   \n",
       "\n",
       "    wt  \n",
       "0  1.0  \n",
       "1  1.0  \n",
       "2  1.0  \n",
       "3  1.0  \n",
       "4  1.0  \n",
       "\n",
       "[5 rows x 22 columns]"
      ]
     },
     "execution_count": 14,
     "metadata": {},
     "output_type": "execute_result"
    }
   ],
   "source": [
    "data_new.head()"
   ]
  },
  {
   "cell_type": "code",
   "execution_count": null,
   "metadata": {
    "_cell_guid": "6c4d34da-52fb-44ba-83e5-79337810ea7e",
    "_uuid": "9a6433fdf73faaa39bc7b320ffecf410e92dacf8",
    "collapsed": true
   },
   "outputs": [],
   "source": [
    "test_new.head()"
   ]
  },
  {
   "cell_type": "code",
   "execution_count": null,
   "metadata": {
    "_cell_guid": "f39dd896-7040-4404-9059-2ddf7d2fa81b",
    "_uuid": "7e2abbbfb5189cb33d7cd936bf44d98e1986c73c",
    "collapsed": true
   },
   "outputs": [],
   "source": [
    "data_new.iloc[:,[5,9,10,16,18]].pivot_table( index=\"family\",columns=[\"type_y\",\"season\"],values=\"unit_sales\",aggfunc=np.sum).transpose()\n"
   ]
  },
  {
   "cell_type": "code",
   "execution_count": null,
   "metadata": {
    "_cell_guid": "ca336d5a-3935-4801-98f2-7b09e52f876a",
    "_uuid": "60c3291296f53f6504ad9f52a83bb227f1ec2331",
    "collapsed": true
   },
   "outputs": [],
   "source": [
    "print(data_new[data_new.unit_sales < 0])"
   ]
  },
  {
   "cell_type": "code",
   "execution_count": null,
   "metadata": {
    "_cell_guid": "2d0ecd4d-6564-4840-8cbc-ca338483a3db",
    "_uuid": "10063a1a2dad86658133ca8eb08d022dfafb22a4",
    "collapsed": true
   },
   "outputs": [],
   "source": [
    "#Creating metrics\n",
    "def nwrmsle(w,predict,y):\n",
    "    # Compute the normalized weighted root mean square lograthamic error\n",
    "    # Arg1 : array of Weights for each target value\n",
    "    # Arg 2: array of predictions\n",
    "    # Arg 3: array of true values\n",
    "    sum_weights = np.sum(w)\n",
    "    #print (\"sum_weights:\",sum_weights)\n",
    "    numerator = np.sum(np.multiply(np.square(np.log(predict + 1) - np.log(y + 1)),w))\n",
    "    if sum_weights == 0:\n",
    "        print (\"denominator 0\")\n",
    "        return 9999\n",
    "    else:\n",
    "        val = np.sqrt(numerator/sum_weights)\n",
    "        return val\n",
    "\n",
    "w = np.array([0, 0 , 0])\n",
    "p = np.array([1, 545, 10])\n",
    "y = np.array([5,545, 10])\n",
    "print(nwrmsle(w,p,y))"
   ]
  },
  {
   "cell_type": "code",
   "execution_count": null,
   "metadata": {
    "_cell_guid": "e6c54ffb-c115-4354-8645-cd24d84e2e1b",
    "_uuid": "a989242f62a5540a3c1f27c3be5c70608605ea4b",
    "collapsed": true
   },
   "outputs": [],
   "source": [
    "from sklearn.model_selection import train_test_split\n",
    "X,y = data_new[data_new.columns.difference(['unit_sales'])], data_new.iloc[:,5]\n",
    "X_train, X_test, y_train , y_test = train_test_split(X,y,test_size = 0.3, random_state =0)\n",
    "print(X_train.shape, y_train.shape, X_test.shape, y_test.shape)"
   ]
  },
  {
   "cell_type": "code",
   "execution_count": null,
   "metadata": {
    "_cell_guid": "49600991-8f9e-447a-9bcb-b36e5faee4df",
    "_uuid": "02fea083d1b36f9f6112d18ff7ffdc535b9fe34f",
    "collapsed": true
   },
   "outputs": [],
   "source": [
    "print(y_train[y_train < 0])"
   ]
  },
  {
   "cell_type": "code",
   "execution_count": null,
   "metadata": {
    "_cell_guid": "5455ab1a-9212-40e2-a4e6-4385b095f9a3",
    "_uuid": "cb3a6161e94df16e1bfde78b68f93a81e6239a1a",
    "collapsed": true
   },
   "outputs": [],
   "source": [
    "# Creating training pipeline\n",
    "def train_predict(model,predictors,X_train,y_train,X_test,y_test):\n",
    "    result = {}\n",
    "    print('Starting..')\n",
    "    start = time()\n",
    "    model = model.fit(X_train[predictors],y_train)\n",
    "    end = time()\n",
    "    result['train_time'] = end - start\n",
    "    print('Training ended. Starting prediction for train..')\n",
    "    start = time()\n",
    "    predict_train = model.predict(X_train[predictors][:10000])\n",
    "    #print(\"Y value:\",y_train[2065:2070])\n",
    "    #print(\"P Value:\",predict_train[2065:2070])\n",
    "    end = time()\n",
    "    result['train_pred_time'] = end - start\n",
    "    print('Predicting training ended. Starting prediction for test..')\n",
    "    start = time()\n",
    "    predict_test = model.predict(X_test[predictors])\n",
    "    #print(predict_test[:10])\n",
    "    end = time()\n",
    "    result['test_pred_time'] = end - start\n",
    "    print('Getting scores..')\n",
    "    result['train_score'] = nwrmsle(X_train['wt'][:10000],predict_train,y_train[:10000])\n",
    "    result['test_score'] = nwrmsle(X_test['wt'],predict_test,y_test)\n",
    "    result['model'] = model\n",
    "    print (\"{} trained with training time: {}\".format(model.__class__.__name__,result['train_time']))\n",
    "    print (\"Prediction time for train data: {} and score = {}\".format(result['train_pred_time'],result['train_score']))\n",
    "    print (\"Prediction time for test data: {} and score = {}\".format(result['test_pred_time'],result['test_score']))\n",
    "    return result\n"
   ]
  },
  {
   "cell_type": "code",
   "execution_count": null,
   "metadata": {
    "_cell_guid": "da3dbcc5-69e0-4494-8c3f-4ca604033df2",
    "_uuid": "301439ef0eac644a7198ba8641937d3aa198ea85",
    "collapsed": true
   },
   "outputs": [],
   "source": [
    "from sklearn import metrics\n",
    "from sklearn import linear_model\n",
    "from sklearn.tree import DecisionTreeRegressor\n",
    "\n",
    "#predictors =  ['store_nbr','item_nbr','day','month','season','dow','onpromotion']\n",
    "#predictors =  ['store_nbr','onpromotion','type_x','type_y','family','item_nbr','day','month','season','dow','dcoilwtico']\n",
    "predictors =  ['store_nbr','onpromotion','type_x','type_y','family','item_nbr','dow','perishable']\n",
    "clf1 = linear_model.LinearRegression()\n",
    "result1 = train_predict(clf1,predictors,X_train,y_train,X_test,y_test)\n",
    "\n",
    "clf2 = DecisionTreeRegressor(max_depth=4,random_state = 0,min_samples_leaf  = 20)\n",
    "result2 = train_predict(clf2,predictors,X_train,y_train,X_test,y_test)\n",
    "\n",
    "\n",
    "#clf = clf.fit(X_train[predictors],y_train)\n",
    "#t_predictions = clf.predict(X_train[predictors]) \n",
    "#t_mse = metrics.mean_squared_error(t_predictions,y_train)  \n",
    "#print(\"train MSE :\", t_mse)\n",
    "#predictions = clf.predict(X_test[predictors])    \n",
    "#mse = metrics.mean_squared_error(predictions,y_test)  \n",
    "#print(\"test MSE :\", mse)"
   ]
  },
  {
   "cell_type": "code",
   "execution_count": null,
   "metadata": {
    "_cell_guid": "0f217d27-7088-432c-875e-94407d5ed720",
    "_uuid": "11b457e69c01e179f51c688af3c1ae321facef4a",
    "collapsed": true
   },
   "outputs": [],
   "source": [
    "print(result2['model'].feature_importances_)"
   ]
  },
  {
   "cell_type": "code",
   "execution_count": null,
   "metadata": {
    "_cell_guid": "c5139710-d4be-45ae-869b-d4414d43a5a4",
    "_uuid": "9a997e32e67d7c663e281d19248776ca93809246",
    "collapsed": true
   },
   "outputs": [],
   "source": [
    "model = result2['model']\n",
    "test_new['unit_sales'] = model.predict(test_new[predictors])  \n",
    "test_out=test_new[['id','unit_sales']]\n",
    "test_out.to_csv('sales_submission.csv',header=True,index = False)"
   ]
  }
 ],
 "metadata": {
  "kernelspec": {
   "display_name": "Python 3",
   "language": "python",
   "name": "python3"
  },
  "language_info": {
   "codemirror_mode": {
    "name": "ipython",
    "version": 3
   },
   "file_extension": ".py",
   "mimetype": "text/x-python",
   "name": "python",
   "nbconvert_exporter": "python",
   "pygments_lexer": "ipython3",
   "version": "3.6.1"
  }
 },
 "nbformat": 4,
 "nbformat_minor": 1
}
